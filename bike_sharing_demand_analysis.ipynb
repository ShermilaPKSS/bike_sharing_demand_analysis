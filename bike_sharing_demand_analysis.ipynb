{
 "cells": [
  {
   "cell_type": "code",
   "execution_count": null,
   "id": "5836d47e-1234-407b-aba5-e9dd4e5a6aae",
   "metadata": {},
   "outputs": [],
   "source": [
    "import pandas as pd"
   ]
  },
  {
   "cell_type": "code",
   "execution_count": null,
   "id": "237e3250-2c5f-4777-9703-e3e248f2cc30",
   "metadata": {},
   "outputs": [],
   "source": [
    "df = pd.read_csv(r\"C:\\Users\\Sachini\\Downloads\\seoul+bike+sharing+demand\\SeoulBikeData.csv\", sep=',', encoding='ISO-8859-1')"
   ]
  },
  {
   "cell_type": "code",
   "execution_count": null,
   "id": "235fb9ae-3e51-4db9-8311-00c827c367e9",
   "metadata": {},
   "outputs": [],
   "source": [
    "# Display basic info\n",
    "print(\"Dataset Overview:\\n\", df.info())"
   ]
  },
  {
   "cell_type": "code",
   "execution_count": null,
   "id": "19d87d74-e9a0-4e71-b598-4751cbdf3c46",
   "metadata": {},
   "outputs": [],
   "source": [
    "df"
   ]
  },
  {
   "cell_type": "code",
   "execution_count": null,
   "id": "5c482d1d-b1cc-42a6-b621-8fe94950a1ae",
   "metadata": {},
   "outputs": [],
   "source": [
    "# Summary statistics\n",
    "print(\"\\nSummary Statistics:\\n\", df.describe())"
   ]
  },
  {
   "cell_type": "code",
   "execution_count": null,
   "id": "74a5a10e-365c-48a8-a4c2-8f6fbaa8a0c2",
   "metadata": {},
   "outputs": [],
   "source": [
    "df['Date'] = pd.to_datetime(df['Date'], format='%d/%m/%Y')"
   ]
  },
  {
   "cell_type": "code",
   "execution_count": null,
   "id": "208ae4d7-bef6-4f9b-a55b-3be6d532b36d",
   "metadata": {},
   "outputs": [],
   "source": [
    "df"
   ]
  },
  {
   "cell_type": "code",
   "execution_count": null,
   "id": "1beb57c6-10ea-4f5d-ad34-deafd87a90da",
   "metadata": {},
   "outputs": [],
   "source": [
    "import pandas as pd\n",
    "import matplotlib.pyplot as plt\n",
    "from IPython.display import Image, display\n",
    "\n",
    "# Identify numerical columns\n",
    "numerical_cols = df.select_dtypes(include=['int64', 'float64']).columns\n",
    "\n",
    "# Generate numerical summary statistics\n",
    "numerical_summary = df[numerical_cols].describe().round(2)\n",
    "\n",
    "# Function to create and save the numerical summary table as an image\n",
    "def save_numerical_summary_as_image(summary_df, filename, title):\n",
    "    fig, ax = plt.subplots(figsize=(30, min(10, len(summary_df) * 0.7))) \n",
    "\n",
    "    # Hide axes\n",
    "    ax.axis('tight')\n",
    "    ax.axis('off')\n",
    "\n",
    "    # Create the table with styling\n",
    "    table = ax.table(cellText=summary_df.values, colLabels=summary_df.columns, \n",
    "                     rowLabels=summary_df.index, loc='center', cellLoc='center', colLoc='center',\n",
    "                     colColours=[\"#f4f4f4\"] * len(summary_df.columns),  # Light gray header background\n",
    "                     rowColours=[\"#e6e6e6\"] * len(summary_df))  # Alternate row shading\n",
    "\n",
    "    # Adjust font size\n",
    "    table.auto_set_font_size(False)\n",
    "    table.set_fontsize(10)\n",
    "\n",
    "    # Set the title\n",
    "    ax.set_title(title, fontsize=12, fontweight=\"bold\", pad=10)\n",
    "\n",
    "    # Save as PNG\n",
    "    plt.savefig(filename, bbox_inches='tight', dpi=300)\n",
    "    plt.close()\n",
    "\n",
    "# Save and display numerical summary\n",
    "save_numerical_summary_as_image(numerical_summary, 'numerical_summary.png', \"Numerical Summary Statistics\")\n",
    "display(Image('numerical_summary.png'))"
   ]
  },
  {
   "cell_type": "code",
   "execution_count": null,
   "id": "e329fb22-b7ea-49fc-921c-03705d8bfa3d",
   "metadata": {},
   "outputs": [],
   "source": [
    "# Identify categorical columns\n",
    "categorical_cols = df.select_dtypes(include=['object']).columns\n",
    "\n",
    "# Generate categorical summary statistics\n",
    "categorical_summary = df[categorical_cols].describe().T  # Transposed for better readability\n",
    "\n",
    "# Function to create and save the categorical summary table as an image\n",
    "def save_categorical_summary_as_image(summary_df, filename, title):\n",
    "    fig, ax = plt.subplots(figsize=(10, min(10, len(summary_df) * 0.7)))  # Adjust height dynamically\n",
    "\n",
    "    # Hide axes\n",
    "    ax.axis('tight')\n",
    "    ax.axis('off')\n",
    "\n",
    "    # Create the table with styling\n",
    "    table = ax.table(cellText=summary_df.values, colLabels=summary_df.columns, \n",
    "                     rowLabels=summary_df.index, loc='center', cellLoc='center', colLoc='center',\n",
    "                     colColours=[\"#f4f4f4\"] * len(summary_df.columns),  # Light gray header background\n",
    "                     rowColours=[\"#e6e6e6\"] * len(summary_df))  # Alternate row shading\n",
    "\n",
    "    # Adjust font size\n",
    "    table.auto_set_font_size(False)\n",
    "    table.set_fontsize(10)\n",
    "\n",
    "    # Set the title\n",
    "    ax.set_title(title, fontsize=12, fontweight=\"bold\", pad=10)\n",
    "\n",
    "    # Save as PNG\n",
    "    plt.savefig(filename, bbox_inches='tight', dpi=300)\n",
    "    plt.close()\n",
    "\n",
    "# Save and display categorical summary\n",
    "save_categorical_summary_as_image(categorical_summary, 'categorical_summary.png', \"Categorical Summary Statistics\")\n",
    "display(Image('categorical_summary.png'))\n"
   ]
  },
  {
   "cell_type": "code",
   "execution_count": null,
   "id": "019caaa4-e3ee-43a7-8379-28e9f4cb5201",
   "metadata": {},
   "outputs": [],
   "source": [
    "import seaborn as sns\n",
    "\n",
    "# List of quantitative variables\n",
    "quant_vars = ['Rented Bike Count', 'Temperature(°C)', 'Humidity(%)', 'Wind speed (m/s)', \n",
    "              'Visibility (10m)', 'Dew point temperature(°C)', 'Solar Radiation (MJ/m2)']\n",
    "\n",
    "# Create box plots\n",
    "plt.figure(figsize=(12, 8))\n",
    "for i, var in enumerate(quant_vars, 1):\n",
    "    plt.subplot(3, 3, i)  # Arrange plots in a grid\n",
    "    sns.boxplot(y=df[var])\n",
    "    plt.title(var)\n",
    "\n",
    "plt.tight_layout()\n",
    "\n",
    "# Save the figure\n",
    "plt.savefig(\"box_plots.png\", dpi=300)  # Save with high resolution\n",
    "plt.show()"
   ]
  },
  {
   "cell_type": "code",
   "execution_count": null,
   "id": "163b9ba9-3f3a-4271-a702-5782c24dc495",
   "metadata": {},
   "outputs": [],
   "source": [
    "# Identify categorical (qualitative) variables\n",
    "categorical_vars = df.select_dtypes(include=['object']).columns\n",
    "\n",
    "# Set the style\n",
    "sns.set_style(\"whitegrid\")\n",
    "\n",
    "# Create subplots in one row\n",
    "fig, axes = plt.subplots(nrows=1, ncols=len(categorical_vars), figsize=(5 * len(categorical_vars), 5))\n",
    "\n",
    "# Plot count plots for each categorical variable\n",
    "for i, col in enumerate(categorical_vars):\n",
    "    sns.countplot(x=df[col], ax=axes[i], palette=\"Set2\")\n",
    "    axes[i].set_title(f\"Distribution of {col}\")\n",
    "    axes[i].set_xlabel(col)\n",
    "    axes[i].set_ylabel(\"Count\")\n",
    "    axes[i].tick_params(axis='x', rotation=45)  # Rotate labels if needed\n",
    "\n",
    "# Adjust layout\n",
    "plt.tight_layout()\n",
    "\n",
    "# Save the figure\n",
    "plt.savefig(\"categorical_univariate_analysis.png\")\n",
    "\n",
    "# Show the plots\n",
    "plt.show()"
   ]
  },
  {
   "cell_type": "code",
   "execution_count": null,
   "id": "cdc9da07-2f3e-4b8c-b9a8-e7fba0a18dce",
   "metadata": {},
   "outputs": [],
   "source": [
    "# Group the data by 'Hour' and calculate the mean 'Rented Bike count' for each hour\n",
    "hourly_bike_count = df.groupby('Hour')['Rented Bike Count'].mean()\n",
    "\n",
    "# Plot the data\n",
    "plt.figure(figsize=(10, 6))\n",
    "plt.plot(hourly_bike_count.index, hourly_bike_count.values, marker='o')\n",
    "plt.title('Hourly Rented Bike Count', fontsize=16)\n",
    "plt.xlabel('Hour of the Day', fontsize=12)\n",
    "plt.ylabel('Average Rented Bike Count', fontsize=12)\n",
    "plt.grid(True)\n",
    "plt.xticks(range(0, 24))\n",
    "\n",
    "# Save the figure\n",
    "plt.savefig(\"hourly_rented_bike_count.png\")\n",
    "\n",
    "plt.show()"
   ]
  },
  {
   "cell_type": "code",
   "execution_count": null,
   "id": "2721a6f6-d10d-4a7e-96a0-935284b935a9",
   "metadata": {},
   "outputs": [],
   "source": [
    "# Extract month from the 'Date' column\n",
    "df['Month'] = df['Date'].dt.month\n",
    "\n",
    "# Map month numbers to month names\n",
    "month_names = {\n",
    "    1: 'January', 2: 'February', 3: 'March', 4: 'April', 5: 'May', 6: 'June',\n",
    "    7: 'July', 8: 'August', 9: 'September', 10: 'October', 11: 'November', 12: 'December'\n",
    "}\n",
    "df['Month_Name'] = df['Month'].map(month_names)\n",
    "\n",
    "# Group the data by 'Month_Name' and calculate the mean 'Rented Bike count'\n",
    "monthly_bike_count = df.groupby('Month_Name')['Rented Bike Count'].mean()\n",
    "\n",
    "# Reorder months in chronological order\n",
    "monthly_bike_count = monthly_bike_count[month_names.values()]\n",
    "\n",
    "# Plot the data\n",
    "plt.figure(figsize=(10, 6))\n",
    "monthly_bike_count.plot(kind='line', marker='o', linestyle='-', color='b')\n",
    "plt.title('Average Rented Bike Count by Month', fontsize=16)\n",
    "plt.xlabel('Month', fontsize=12)\n",
    "plt.ylabel('Average Rented Bike Count', fontsize=12)\n",
    "plt.grid(True)\n",
    "plt.xticks(rotation=45)\n",
    "plt.tight_layout()\n",
    "\n",
    "# Save the figure\n",
    "plt.savefig(\"average_rented_bike_count_by_month.png\")\n",
    "\n",
    "plt.show()"
   ]
  },
  {
   "cell_type": "code",
   "execution_count": null,
   "id": "49bd6bb6-b17b-42de-9545-f3a55e0f8d63",
   "metadata": {},
   "outputs": [],
   "source": [
    "# Set up the plot\n",
    "plt.figure(figsize=(10, 6))\n",
    "\n",
    "# Calculate the mean 'Rented Bike Count' for each season\n",
    "season_avg_bike_count = df.groupby('Seasons')['Rented Bike Count'].mean()\n",
    "\n",
    "# Plotting the line chart for 'Seasons' vs 'Rented Bike Count'\n",
    "season_avg_bike_count.plot(kind='line', marker='o', color='b', linewidth=2)\n",
    "\n",
    "# Adding title and labels\n",
    "plt.title('Line Chart: Seasons vs Rented Bike Count', fontsize=16)\n",
    "plt.xlabel('Seasons', fontsize=12)\n",
    "plt.ylabel('Rented Bike Count', fontsize=12)\n",
    "\n",
    "# Set the x-axis ticks to be the season names\n",
    "plt.xticks(range(len(season_avg_bike_count)), season_avg_bike_count.index, rotation=45)\n",
    "\n",
    "# Adjust layout manually to avoid margin issues\n",
    "plt.tight_layout()\n",
    "\n",
    "# Save the plot to a file\n",
    "plt.savefig('line_chart_seasons_vs_bike_count.png', dpi=300)\n",
    "\n",
    "# Show the plot\n",
    "plt.show()"
   ]
  },
  {
   "cell_type": "code",
   "execution_count": null,
   "id": "995b56c7-4a64-4686-98a7-c3af3b7de10b",
   "metadata": {},
   "outputs": [],
   "source": [
    "# Convert Hour to a categorical variable (Morning, Afternoon, Evening)\n",
    "def categorize_hour(hour):\n",
    "    if 6 <= hour < 12:\n",
    "        return 'Morning'\n",
    "    elif 12 <= hour < 18:\n",
    "        return 'Afternoon'\n",
    "    else:\n",
    "        return 'Evening'\n",
    "\n",
    "# Apply the function to create a new 'Time of Day' column\n",
    "df['Time of Day'] = df['Hour'].apply(categorize_hour)"
   ]
  },
  {
   "cell_type": "code",
   "execution_count": null,
   "id": "a798418b-672b-4f5b-af09-0f9b2ddfdf50",
   "metadata": {},
   "outputs": [],
   "source": [
    "df"
   ]
  },
  {
   "cell_type": "code",
   "execution_count": null,
   "id": "0bfc8006-c56d-43e0-bdad-c3910de00220",
   "metadata": {},
   "outputs": [],
   "source": [
    "# Create a FacetGrid to plot separate scatterplots for each Time of Day\n",
    "g = sns.FacetGrid(df, col=\"Time of Day\", hue=\"Time of Day\", palette=\"Set2\", height=5, aspect=1.2)\n",
    "g.map(sns.scatterplot, 'Rainfall(mm)', 'Rented Bike Count')\n",
    "\n",
    "# Add titles and labels to the facets\n",
    "g.set_axis_labels('Rainfall (mm)', 'Rented Bike Count')\n",
    "g.set_titles(\"{col_name} Time of Day\")\n",
    "\n",
    "# Add a legend\n",
    "g.add_legend()\n",
    "\n",
    "# Add a main title\n",
    "g.fig.suptitle('Impact of Rainfall on Bike Rentals Across Different Times of Day', fontsize=16)\n",
    "\n",
    "# Adjust layout to prevent overlap\n",
    "plt.tight_layout()\n",
    "plt.subplots_adjust(top=0.9)  # To make space for the suptitle\n",
    "\n",
    "# Save the plot to a file\n",
    "plt.savefig('impact_of_rainfall.png', dpi=300)\n",
    "\n",
    "# Show the plot\n",
    "plt.show()"
   ]
  },
  {
   "cell_type": "code",
   "execution_count": null,
   "id": "9db81a03-cca2-4edf-9b6c-3c142cda4b9d",
   "metadata": {},
   "outputs": [],
   "source": [
    "# Create a FacetGrid to plot separate scatterplots for each Time of Day with Snowfall\n",
    "g_snowfall = sns.FacetGrid(df, col=\"Time of Day\", hue=\"Time of Day\", palette=\"Set2\", height=5, aspect=1.2)\n",
    "g_snowfall.map(sns.scatterplot, 'Snowfall (cm)', 'Rented Bike Count')\n",
    "\n",
    "# Add titles and labels to the facets\n",
    "g_snowfall.set_axis_labels('Snowfall (cm)', 'Rented Bike Count')\n",
    "g_snowfall.set_titles(\"{col_name} Time of Day\")\n",
    "\n",
    "# Add a legend\n",
    "g_snowfall.add_legend()\n",
    "\n",
    "# Add a main title\n",
    "g_snowfall.fig.suptitle('Impact of Snowfall on Bike Rentals Across Different Times of Day', fontsize=16)\n",
    "\n",
    "# Adjust layout to prevent overlap\n",
    "plt.tight_layout()\n",
    "plt.subplots_adjust(top=0.9)  # To make space for the suptitle\n",
    "\n",
    "# Save the plot to a file\n",
    "plt.savefig('impact_of_snowfall.png', dpi=300)\n",
    "\n",
    "# Show the plot\n",
    "plt.show()"
   ]
  },
  {
   "cell_type": "code",
   "execution_count": null,
   "id": "767a2701-67d1-4b48-b7c2-af085e658457",
   "metadata": {},
   "outputs": [],
   "source": [
    "print(\"Dataset Overview:\\n\", df.info())"
   ]
  },
  {
   "cell_type": "code",
   "execution_count": null,
   "id": "853d7a8b-3168-44b7-aa88-66f0bb3ebd60",
   "metadata": {},
   "outputs": [],
   "source": [
    "df"
   ]
  },
  {
   "cell_type": "code",
   "execution_count": null,
   "id": "aebbf257-0ddd-4c05-8145-da53c8b8df55",
   "metadata": {},
   "outputs": [],
   "source": [
    "from sklearn.preprocessing import StandardScaler\n",
    "\n",
    "df_encoded = df.copy()  # Create a copy to avoid modifying the original dataframe\n",
    "\n",
    "# Label Encode binary categorical variables\n",
    "binary_cols = ['Holiday', 'Functioning Day']\n",
    "for col in binary_cols:\n",
    "    df_encoded[col] = df_encoded[col].map({'No Holiday': 0, 'Holiday': 1, 'No': 0, 'Yes': 1})\n",
    "\n",
    "# One-Hot Encode nominal categorical variables\n",
    "df_encoded = pd.get_dummies(df_encoded, columns=['Seasons', 'Time of Day'], drop_first=True)"
   ]
  },
  {
   "cell_type": "code",
   "execution_count": null,
   "id": "fe270812-952e-4939-b3f2-344d51bf1f91",
   "metadata": {},
   "outputs": [],
   "source": [
    "df_encoded"
   ]
  },
  {
   "cell_type": "code",
   "execution_count": null,
   "id": "4e19e667-f11d-4a4d-8a2d-2a446ea90e72",
   "metadata": {},
   "outputs": [],
   "source": [
    "print(\"Dataset Overview:\\n\", df_encoded.info())"
   ]
  },
  {
   "cell_type": "code",
   "execution_count": null,
   "id": "5903e5e5-d859-4ddc-93e9-17a5bef8b143",
   "metadata": {},
   "outputs": [],
   "source": [
    "# Exclude Month and Hour from normalization\n",
    "exclude_cols = ['Month', 'Hour', 'Holiday', 'Functioning Day']  # Add other categorical columns if needed\n",
    "numeric_cols = df_encoded.select_dtypes(include=['int64', 'float64']).columns\n",
    "numeric_cols = numeric_cols.difference(exclude_cols)  # Remove Month & Hour\n",
    "\n",
    "# Normalize numerical features\n",
    "scaler = StandardScaler()\n",
    "df_encoded[numeric_cols] = scaler.fit_transform(df_encoded[numeric_cols])"
   ]
  },
  {
   "cell_type": "code",
   "execution_count": null,
   "id": "4610b2a7-cbe1-4694-8467-706f620144c9",
   "metadata": {},
   "outputs": [],
   "source": [
    "df"
   ]
  },
  {
   "cell_type": "code",
   "execution_count": null,
   "id": "06614519-7897-4825-8073-684eb3918183",
   "metadata": {},
   "outputs": [],
   "source": [
    "df_encoded"
   ]
  },
  {
   "cell_type": "code",
   "execution_count": null,
   "id": "9dfe60e9-0883-498d-a1d8-c36ab4d95759",
   "metadata": {},
   "outputs": [],
   "source": [
    "# Save the preprocessed dataset to a CSV file\n",
    "df_encoded.to_csv(\"seoul_bike_sharing_processed.csv\", index=False)"
   ]
  },
  {
   "cell_type": "code",
   "execution_count": null,
   "id": "c892e915-11cd-4ed3-8329-d9b5ebfb122e",
   "metadata": {},
   "outputs": [],
   "source": [
    "print(\"Dataset Overview:\\n\", df_encoded.info())"
   ]
  },
  {
   "cell_type": "code",
   "execution_count": null,
   "id": "eb614b06-e245-42cc-8bb1-4ee7c36ba70e",
   "metadata": {},
   "outputs": [],
   "source": [
    "# Exclude the specified columns (Month, Hour, Holiday, and Functioning Day) for correlation analysis\n",
    "exclude_cols = ['Month', 'Hour', 'Holiday', 'Functioning Day']  # Columns to exclude\n",
    "numeric_cols = df_encoded.select_dtypes(include=['int64', 'float64']).columns\n",
    "numeric_cols = numeric_cols.difference(exclude_cols)  # Remove the excluded columns from numeric columns\n",
    "\n",
    "# Select only the numerical columns\n",
    "df_corr = df_encoded[numeric_cols]\n",
    "\n",
    "# Calculate the correlation matrix\n",
    "corr_matrix = df_corr.corr()\n",
    "\n",
    "# Display the correlation matrix\n",
    "# Set figure size\n",
    "plt.figure(figsize=(10, 8))\n",
    "\n",
    "# Plot the heatmap\n",
    "sns.heatmap(corr_matrix, annot=True, cmap='coolwarm', fmt='.2f', linewidths=0.5)\n",
    "\n",
    "# Rotate x-axis labels for better visibility\n",
    "plt.xticks(rotation=45, ha='right')\n",
    "\n",
    "# Adjust layout to prevent labels from getting cut off\n",
    "plt.tight_layout()\n",
    "\n",
    "# Save the plot\n",
    "plt.savefig('heatmap.png', dpi=300, bbox_inches='tight')\n",
    "\n",
    "# Show the plot\n",
    "plt.show()"
   ]
  },
  {
   "cell_type": "code",
   "execution_count": null,
   "id": "2f9bd09a-a04d-4578-b6ed-0220c98c2776",
   "metadata": {},
   "outputs": [],
   "source": [
    "from sklearn.linear_model import LinearRegression\n",
    "\n",
    "# Define the target (bike count) and features (weather, time, etc.)\n",
    "X = df_encoded[['Temperature(°C)', 'Humidity(%)', 'Wind speed (m/s)', 'Visibility (10m)', \n",
    "                'Dew point temperature(°C)', 'Solar Radiation (MJ/m2)', 'Rainfall(mm)', \n",
    "                'Snowfall (cm)', 'Hour', 'Holiday', 'Functioning Day']]\n",
    "y = df_encoded['Rented Bike Count']\n",
    "\n",
    "# Fit the regression model\n",
    "model = LinearRegression()\n",
    "model.fit(X, y)\n",
    "\n",
    "# Get predictions\n",
    "y_pred = model.predict(X)\n",
    "\n",
    "# Create subplots for each variable's regression plot\n",
    "features = X.columns\n",
    "num_features = len(features)\n",
    "\n",
    "# Calculate the number of rows and columns dynamically\n",
    "ncols = 3\n",
    "nrows = (num_features // ncols) + (num_features % ncols > 0)\n",
    "\n",
    "fig, axes = plt.subplots(nrows=nrows, ncols=ncols, figsize=(15, 5 * nrows))\n",
    "\n",
    "# Flatten axes for easier iteration\n",
    "axes = axes.flatten()\n",
    "\n",
    "# Create the plots\n",
    "for i, feature in enumerate(features):\n",
    "    sns.regplot(x=feature, y='Rented Bike Count', data=df_encoded, ax=axes[i], line_kws={'color': 'red'})\n",
    "    axes[i].set_title(f'Linear Regression: {feature} vs Bike Rentals')\n",
    "\n",
    "# Remove any empty axes if the number of features is not a perfect multiple of ncols\n",
    "for i in range(num_features, len(axes)):\n",
    "    fig.delaxes(axes[i])\n",
    "\n",
    "# Adjust layout for better spacing\n",
    "plt.tight_layout()\n",
    "\n",
    "# Save the plot to a file\n",
    "plt.savefig('linear_regression_all_features.png', dpi=300)\n",
    "\n",
    "# Show the plot\n",
    "plt.show()"
   ]
  },
  {
   "cell_type": "code",
   "execution_count": null,
   "id": "0b0c3bfe-f94d-4af2-8102-4689c9ce0cf0",
   "metadata": {},
   "outputs": [],
   "source": []
  }
 ],
 "metadata": {
  "kernelspec": {
   "display_name": "Python 3 (ipykernel)",
   "language": "python",
   "name": "python3"
  },
  "language_info": {
   "codemirror_mode": {
    "name": "ipython",
    "version": 3
   },
   "file_extension": ".py",
   "mimetype": "text/x-python",
   "name": "python",
   "nbconvert_exporter": "python",
   "pygments_lexer": "ipython3",
   "version": "3.11.7"
  }
 },
 "nbformat": 4,
 "nbformat_minor": 5
}
